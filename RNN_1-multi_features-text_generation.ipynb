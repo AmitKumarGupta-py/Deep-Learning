{
 "cells": [
  {
   "cell_type": "code",
   "execution_count": 1,
   "id": "4a67539e-2044-4ace-b8d9-d94e386607a2",
   "metadata": {},
   "outputs": [],
   "source": [
    "#!/usr/bin/env pyhton3\n",
    "# -*- coding \n",
    "\n",
    "from sklearn import datasets\n",
    "from sklearn.model_selection import train_test_split\n",
    "###-----------------\n",
    "### Import Libraries\n",
    "###-----------------\n",
    "import os\n",
    "import time\n",
    "import numpy as np\n",
    "import pandas as pd\n",
    "from datetime import datetime, timedelta\n",
    "import matplotlib.pyplot as plt\n",
    "import tensorflow as tf\n",
    "import seaborn as sns\n",
    "from utils.helper import fn_plot_tf_hist, fn_plot_confusion_matrix\n",
    "import gc\n",
    "\n",
    "from sklearn.metrics import mean_squared_error,accuracy_score, confusion_matrix, ConfusionMatrixDisplay, classification_report\n",
    "\n",
    "import warnings\n",
    "warnings.filterwarnings('ignore')\n",
    "from utils.helper import fn_plot_tf_hist, fn_plot_confusion_matrix\n",
    "from sklearn.preprocessing import StandardScaler, MinMaxScaler\n"
   ]
  },
  {
   "cell_type": "code",
   "execution_count": 2,
   "id": "9e4f6598-1f49-4daf-8529-0a035bba2632",
   "metadata": {},
   "outputs": [],
   "source": [
    "# Global variables\n",
    "inpDir = './input' # Input Stored here\n",
    "outDir = './ouput' # output Here\n",
    "modelDir = './models'# to save Models\n",
    "subDir = 'text_gen' # sub dir by dataset\n",
    "RANDOM_STATE = 24\n",
    "np.random.RandomState(seed = RANDOM_STATE)\n",
    "tf.random.set_seed(RANDOM_STATE)\n",
    "#rng = np.random.default_rng(seed = RANDOM_STATE)\n",
    "#N_SAMPLE = 1000\n",
    "TEST_SIZE = 0.2 # 18147 - 56*256\n",
    "ALPHA = 0.001 # learning rate\n",
    "NOISE = 0.2 # Error\n",
    "EPOCHS = 30\n",
    "BATCH_SIZE = 64 # default for tensorflow\n",
    "\n",
    "PATIENCE = 10\n",
    "LR_FACTOR = 0.1\n",
    "LR_PATIENCE = 10"
   ]
  },
  {
   "cell_type": "code",
   "execution_count": 3,
   "id": "c6cca2a1-b454-4865-8668-3e9feab6bab6",
   "metadata": {},
   "outputs": [],
   "source": [
    "#set the plotting parameters\n",
    "params = {'legend.fontsize': 'large',\n",
    "          'figure.figsize': (15, 8),\n",
    "          'axes.labelsize': 'large',\n",
    "          'axes.titlesize':'x-large',\n",
    "          'xtick.labelsize':'large',\n",
    "          'ytick.labelsize':'large'\n",
    "         }\n",
    "    #'text.usetex':True,\n",
    "\n",
    "plt.rcParams.update(params)\n",
    "CMAP = plt.cm.coolwarm\n",
    "plt.style.use('seaborn-v0_8-darkgrid')\n"
   ]
  },
  {
   "cell_type": "code",
   "execution_count": 4,
   "id": "05a5bfb5-7dc3-4e11-b105-9e75ff8b9a4e",
   "metadata": {},
   "outputs": [
    {
     "data": {
      "text/plain": [
       "'./input\\\\text_gen\\\\shakespeare.txt'"
      ]
     },
     "execution_count": 4,
     "metadata": {},
     "output_type": "execute_result"
    }
   ],
   "source": [
    "fileName = 'shakespeare.txt'\n",
    "filePath = os.path.join(inpDir, subDir, fileName)\n",
    "\n",
    "filePath"
   ]
  },
  {
   "cell_type": "code",
   "execution_count": 5,
   "id": "5858e740-6324-40d8-b64a-285608a61cef",
   "metadata": {},
   "outputs": [
    {
     "data": {
      "text/plain": [
       "1115395"
      ]
     },
     "execution_count": 5,
     "metadata": {},
     "output_type": "execute_result"
    }
   ],
   "source": [
    "text = open(filePath, 'rb').read().decode(encoding='utf-8')\n",
    "len(text)"
   ]
  },
  {
   "cell_type": "code",
   "execution_count": 6,
   "id": "f1161308-09c5-4a26-8b9f-7a3b49498504",
   "metadata": {},
   "outputs": [
    {
     "name": "stdout",
     "output_type": "stream",
     "text": [
      "First Citizen:\n",
      "Before we proceed any further, hear me speak.\n",
      "\n",
      "All:\n",
      "Speak, speak.\n",
      "\n",
      "First Citizen:\n",
      "You\n"
     ]
    }
   ],
   "source": [
    "print(text[:100])"
   ]
  },
  {
   "cell_type": "markdown",
   "id": "5bcd0109-9ea4-4df1-963a-2962568eda94",
   "metadata": {},
   "source": [
    "# character based modelling"
   ]
  },
  {
   "cell_type": "code",
   "execution_count": 8,
   "id": "95f2b3c0-e47d-4077-9d29-c015b3653ae5",
   "metadata": {},
   "outputs": [
    {
     "data": {
      "text/plain": [
       "65"
      ]
     },
     "execution_count": 8,
     "metadata": {},
     "output_type": "execute_result"
    }
   ],
   "source": [
    "vocab = sorted(set(text))\n",
    "len(vocab)"
   ]
  },
  {
   "cell_type": "code",
   "execution_count": 9,
   "id": "2c5ea265-dc35-4b6a-8edf-a12349318328",
   "metadata": {},
   "outputs": [],
   "source": [
    "char2idx = {u: i for i, u in enumerate(vocab)}\n",
    "idx2char = np.array(vocab) #in array i can refer element by idx"
   ]
  },
  {
   "cell_type": "code",
   "execution_count": 10,
   "id": "c893d0c1-d3e6-4fac-9aa2-5334be2be330",
   "metadata": {},
   "outputs": [
    {
     "data": {
      "text/plain": [
       "(1115395,)"
      ]
     },
     "execution_count": 10,
     "metadata": {},
     "output_type": "execute_result"
    }
   ],
   "source": [
    "text_as_int = np.array([char2idx [c] for c in text])\n",
    "text_as_int.shape"
   ]
  },
  {
   "cell_type": "code",
   "execution_count": 11,
   "id": "709f340f-1f27-4584-820e-63c14f5d17c0",
   "metadata": {},
   "outputs": [
    {
     "data": {
      "text/plain": [
       "numpy.ndarray"
      ]
     },
     "execution_count": 11,
     "metadata": {},
     "output_type": "execute_result"
    }
   ],
   "source": [
    "type(text_as_int)"
   ]
  },
  {
   "cell_type": "code",
   "execution_count": 12,
   "id": "285d5c80-f090-4099-9f4e-41f825000b77",
   "metadata": {},
   "outputs": [
    {
     "name": "stdout",
     "output_type": "stream",
     "text": [
      "18:F\n",
      "47:i\n",
      "56:r\n",
      "57:s\n",
      "58:t\n",
      "1: \n",
      "15:C\n",
      "47:i\n",
      "58:t\n",
      "47:i\n"
     ]
    }
   ],
   "source": [
    "seq_length = 100\n",
    "example_per_epoch = len(text) // (seq_length+1)\n",
    "char_dataset = tf.data.Dataset.from_tensor_slices(text_as_int)\n",
    "\n",
    "for i in char_dataset.take(10):\n",
    "    print(i.numpy(), end=':')\n",
    "    \n",
    "    print(idx2char[i.numpy()])\n",
    "   "
   ]
  },
  {
   "cell_type": "code",
   "execution_count": 13,
   "id": "2355d595-cf4e-4afd-a005-79cd43248781",
   "metadata": {},
   "outputs": [
    {
     "name": "stdout",
     "output_type": "stream",
     "text": [
      "tf.Tensor(\n",
      "[18 47 56 57 58  1 15 47 58 47 64 43 52 10  0 14 43 44 53 56 43  1 61 43\n",
      "  1 54 56 53 41 43 43 42  1 39 52 63  1 44 59 56 58 46 43 56  6  1 46 43\n",
      " 39 56  1 51 43  1 57 54 43 39 49  8  0  0 13 50 50 10  0 31 54 43 39 49\n",
      "  6  1 57 54 43 39 49  8  0  0 18 47 56 57 58  1 15 47 58 47 64 43 52 10\n",
      "  0 37 53 59  1], shape=(101,), dtype=int32)\n",
      "'First Citizen:\\nBefore we proceed any further, hear me speak.\\n\\nAll:\\nSpeak, speak.\\n\\nFirst Citizen:\\nYou '\n",
      "tf.Tensor(\n",
      "[39 56 43  1 39 50 50  1 56 43 57 53 50 60 43 42  1 56 39 58 46 43 56  1\n",
      " 58 53  1 42 47 43  1 58 46 39 52  1 58 53  1 44 39 51 47 57 46 12  0  0\n",
      " 13 50 50 10  0 30 43 57 53 50 60 43 42  8  1 56 43 57 53 50 60 43 42  8\n",
      "  0  0 18 47 56 57 58  1 15 47 58 47 64 43 52 10  0 18 47 56 57 58  6  1\n",
      " 63 53 59  1 49], shape=(101,), dtype=int32)\n",
      "'are all resolved rather to die than to famish?\\n\\nAll:\\nResolved. resolved.\\n\\nFirst Citizen:\\nFirst, you k'\n"
     ]
    }
   ],
   "source": [
    "sequences = char_dataset.batch(seq_length +1, drop_remainder = True)\n",
    "for item in sequences.take(2):\n",
    "    print(item)\n",
    "    print(repr(''.join(idx2char[item.numpy()])))"
   ]
  },
  {
   "cell_type": "code",
   "execution_count": 14,
   "id": "6e9cabc0-752c-4d6b-a399-24be510dea0f",
   "metadata": {},
   "outputs": [],
   "source": [
    "def split_input_target(chunk):\n",
    "    input_text = chunk[:-1] # First hundred characters\n",
    "    target_text = chunk[1:] # offset one as target\n",
    "    return input_text, target_text\n",
    "dataset = sequences.map(split_input_target)\n"
   ]
  },
  {
   "cell_type": "code",
   "execution_count": 15,
   "id": "a3d62b5e-3446-434d-b469-84ec97d35e78",
   "metadata": {},
   "outputs": [
    {
     "name": "stdout",
     "output_type": "stream",
     "text": [
      "'First Citizen:\\nBefore we proceed any further, hear me speak.\\n\\nAll:\\nSpeak, speak.\\n\\nFirst Citizen:\\nYou'\n",
      "'irst Citizen:\\nBefore we proceed any further, hear me speak.\\n\\nAll:\\nSpeak, speak.\\n\\nFirst Citizen:\\nYou '\n",
      "'are all resolved rather to die than to famish?\\n\\nAll:\\nResolved. resolved.\\n\\nFirst Citizen:\\nFirst, you '\n",
      "'re all resolved rather to die than to famish?\\n\\nAll:\\nResolved. resolved.\\n\\nFirst Citizen:\\nFirst, you k'\n"
     ]
    }
   ],
   "source": [
    "for inp_ex, tar_ex in dataset.take(2):\n",
    "    print(repr(''.join(idx2char[inp_ex.numpy()])))\n",
    "    print(repr(''.join(idx2char[tar_ex.numpy()])))"
   ]
  },
  {
   "cell_type": "code",
   "execution_count": 16,
   "id": "ac4aae25-c0d9-4fa5-85eb-9ca59e02d2bd",
   "metadata": {},
   "outputs": [
    {
     "data": {
      "text/plain": [
       "<_BatchDataset element_spec=(TensorSpec(shape=(64, 100), dtype=tf.int32, name=None), TensorSpec(shape=(64, 100), dtype=tf.int32, name=None))>"
      ]
     },
     "execution_count": 16,
     "metadata": {},
     "output_type": "execute_result"
    }
   ],
   "source": [
    "BUFFER_SIZE = 10000\n",
    "dataset = dataset.shuffle(BUFFER_SIZE).batch(BATCH_SIZE,\n",
    "                                            drop_remainder=True)\n",
    "dataset"
   ]
  },
  {
   "cell_type": "code",
   "execution_count": 17,
   "id": "a03cb250-1cdf-448a-b618-0cf4f209b2e6",
   "metadata": {},
   "outputs": [],
   "source": [
    "vocab_size = len(vocab)\n",
    "embedding_dim = 256\n",
    "rnn_units = 1024"
   ]
  },
  {
   "cell_type": "code",
   "execution_count": 35,
   "id": "0c9894f5-d10b-46ce-8bbd-c00392ca63ba",
   "metadata": {},
   "outputs": [
    {
     "data": {
      "text/html": [
       "<pre style=\"white-space:pre;overflow-x:auto;line-height:normal;font-family:Menlo,'DejaVu Sans Mono',consolas,'Courier New',monospace\"><span style=\"font-weight: bold\">Model: \"sequential_1\"</span>\n",
       "</pre>\n"
      ],
      "text/plain": [
       "\u001b[1mModel: \"sequential_1\"\u001b[0m\n"
      ]
     },
     "metadata": {},
     "output_type": "display_data"
    },
    {
     "data": {
      "text/html": [
       "<pre style=\"white-space:pre;overflow-x:auto;line-height:normal;font-family:Menlo,'DejaVu Sans Mono',consolas,'Courier New',monospace\">┏━━━━━━━━━━━━━━━━━━━━━━━━━━━━━━━━━━━━━━┳━━━━━━━━━━━━━━━━━━━━━━━━━━━━━┳━━━━━━━━━━━━━━━━━┓\n",
       "┃<span style=\"font-weight: bold\"> Layer (type)                         </span>┃<span style=\"font-weight: bold\"> Output Shape                </span>┃<span style=\"font-weight: bold\">         Param # </span>┃\n",
       "┡━━━━━━━━━━━━━━━━━━━━━━━━━━━━━━━━━━━━━━╇━━━━━━━━━━━━━━━━━━━━━━━━━━━━━╇━━━━━━━━━━━━━━━━━┩\n",
       "│ simple_rnn (<span style=\"color: #0087ff; text-decoration-color: #0087ff\">SimpleRNN</span>)               │ (<span style=\"color: #00d7ff; text-decoration-color: #00d7ff\">None</span>, <span style=\"color: #00af00; text-decoration-color: #00af00\">100</span>)                 │       <span style=\"color: #00af00; text-decoration-color: #00af00\">1,010,100</span> │\n",
       "├──────────────────────────────────────┼─────────────────────────────┼─────────────────┤\n",
       "│ dense_1 (<span style=\"color: #0087ff; text-decoration-color: #0087ff\">Dense</span>)                      │ (<span style=\"color: #00d7ff; text-decoration-color: #00d7ff\">None</span>, <span style=\"color: #00af00; text-decoration-color: #00af00\">1</span>)                   │             <span style=\"color: #00af00; text-decoration-color: #00af00\">101</span> │\n",
       "└──────────────────────────────────────┴─────────────────────────────┴─────────────────┘\n",
       "</pre>\n"
      ],
      "text/plain": [
       "┏━━━━━━━━━━━━━━━━━━━━━━━━━━━━━━━━━━━━━━┳━━━━━━━━━━━━━━━━━━━━━━━━━━━━━┳━━━━━━━━━━━━━━━━━┓\n",
       "┃\u001b[1m \u001b[0m\u001b[1mLayer (type)                        \u001b[0m\u001b[1m \u001b[0m┃\u001b[1m \u001b[0m\u001b[1mOutput Shape               \u001b[0m\u001b[1m \u001b[0m┃\u001b[1m \u001b[0m\u001b[1m        Param #\u001b[0m\u001b[1m \u001b[0m┃\n",
       "┡━━━━━━━━━━━━━━━━━━━━━━━━━━━━━━━━━━━━━━╇━━━━━━━━━━━━━━━━━━━━━━━━━━━━━╇━━━━━━━━━━━━━━━━━┩\n",
       "│ simple_rnn (\u001b[38;5;33mSimpleRNN\u001b[0m)               │ (\u001b[38;5;45mNone\u001b[0m, \u001b[38;5;34m100\u001b[0m)                 │       \u001b[38;5;34m1,010,100\u001b[0m │\n",
       "├──────────────────────────────────────┼─────────────────────────────┼─────────────────┤\n",
       "│ dense_1 (\u001b[38;5;33mDense\u001b[0m)                      │ (\u001b[38;5;45mNone\u001b[0m, \u001b[38;5;34m1\u001b[0m)                   │             \u001b[38;5;34m101\u001b[0m │\n",
       "└──────────────────────────────────────┴─────────────────────────────┴─────────────────┘\n"
      ]
     },
     "metadata": {},
     "output_type": "display_data"
    },
    {
     "data": {
      "text/html": [
       "<pre style=\"white-space:pre;overflow-x:auto;line-height:normal;font-family:Menlo,'DejaVu Sans Mono',consolas,'Courier New',monospace\"><span style=\"font-weight: bold\"> Total params: </span><span style=\"color: #00af00; text-decoration-color: #00af00\">1,010,201</span> (3.85 MB)\n",
       "</pre>\n"
      ],
      "text/plain": [
       "\u001b[1m Total params: \u001b[0m\u001b[38;5;34m1,010,201\u001b[0m (3.85 MB)\n"
      ]
     },
     "metadata": {},
     "output_type": "display_data"
    },
    {
     "data": {
      "text/html": [
       "<pre style=\"white-space:pre;overflow-x:auto;line-height:normal;font-family:Menlo,'DejaVu Sans Mono',consolas,'Courier New',monospace\"><span style=\"font-weight: bold\"> Trainable params: </span><span style=\"color: #00af00; text-decoration-color: #00af00\">1,010,201</span> (3.85 MB)\n",
       "</pre>\n"
      ],
      "text/plain": [
       "\u001b[1m Trainable params: \u001b[0m\u001b[38;5;34m1,010,201\u001b[0m (3.85 MB)\n"
      ]
     },
     "metadata": {},
     "output_type": "display_data"
    },
    {
     "data": {
      "text/html": [
       "<pre style=\"white-space:pre;overflow-x:auto;line-height:normal;font-family:Menlo,'DejaVu Sans Mono',consolas,'Courier New',monospace\"><span style=\"font-weight: bold\"> Non-trainable params: </span><span style=\"color: #00af00; text-decoration-color: #00af00\">0</span> (0.00 B)\n",
       "</pre>\n"
      ],
      "text/plain": [
       "\u001b[1m Non-trainable params: \u001b[0m\u001b[38;5;34m0\u001b[0m (0.00 B)\n"
      ]
     },
     "metadata": {},
     "output_type": "display_data"
    }
   ],
   "source": [
    "def build_model(vocab_size, embedding_dim, \n",
    "                rnn_units, batch_size = BATCH_SIZE):\n",
    "    return tf.keras.Sequential([\n",
    "        tf.keras.layers.Input(shape = (None, ),\n",
    "                              batch_size = batch_size),\n",
    "        tf.keras.layers.Embedding(vocab_size,\n",
    "                                  embedding_dim),\n",
    "        tf.keras.layers.GRU(rnn_units, \n",
    "                            return_sequences=True, \n",
    "                           stateful=True,\n",
    "                           recurrent_initializer='glorot_uniform'),\n",
    "        tf.keras.layers.Dense(vocab_size)\n",
    "                               ])\n",
    "model.summary()"
   ]
  },
  {
   "cell_type": "code",
   "execution_count": 19,
   "id": "8832d5ef-6fce-4613-aea3-b6178bcec7b8",
   "metadata": {},
   "outputs": [],
   "source": [
    "model = build_model(vocab_size, embedding_dim, rnn_units,\n",
    "               BATCH_SIZE)"
   ]
  },
  {
   "cell_type": "code",
   "execution_count": 20,
   "id": "065849cb-131e-4034-909b-035dbe04fcc6",
   "metadata": {},
   "outputs": [],
   "source": [
    "for inp_ex, tar_ex in dataset.take(1):\n",
    "    ex_pred = model(inp_ex)"
   ]
  },
  {
   "cell_type": "code",
   "execution_count": 21,
   "id": "8c543497-8153-4042-bc1a-892dbaefe342",
   "metadata": {},
   "outputs": [
    {
     "data": {
      "text/plain": [
       "TensorShape([64, 100, 65])"
      ]
     },
     "execution_count": 21,
     "metadata": {},
     "output_type": "execute_result"
    }
   ],
   "source": [
    "ex_pred.shape"
   ]
  },
  {
   "cell_type": "code",
   "execution_count": 25,
   "id": "e8711641-ba5e-4bb6-af21-66279e2d215c",
   "metadata": {},
   "outputs": [],
   "source": [
    "# Why we sample"
   ]
  },
  {
   "cell_type": "code",
   "execution_count": 31,
   "id": "56adf7b7-33bd-483e-a727-bbfbac155fef",
   "metadata": {},
   "outputs": [
    {
     "name": "stdout",
     "output_type": "stream",
     "text": [
      "(100, 1)\n"
     ]
    }
   ],
   "source": [
    "sample_indices = tf.random.categorical(ex_pred[0], num_samples = 1)\n",
    "print(sample_indices.shape)"
   ]
  },
  {
   "cell_type": "code",
   "execution_count": 33,
   "id": "e86350ed-3be2-4f42-9e37-36997215f134",
   "metadata": {},
   "outputs": [
    {
     "data": {
      "text/plain": [
       "array([14,  1, 27, 46, 28, 51,  2, 50, 17, 30, 27, 63, 41, 48, 42, 64, 63,\n",
       "       15, 32, 10,  9, 21, 56, 39, 43, 37, 19, 21, 31, 19, 17,  8,  1, 29,\n",
       "       25, 10,  3, 59, 15, 62, 24, 26, 37, 38, 56, 37, 63,  5,  0,  0, 35,\n",
       "        4, 52, 44, 28, 41, 12, 18, 17, 12, 46,  6, 46,  7, 23, 19, 22, 18,\n",
       "       37, 59,  3, 42, 45, 46, 51, 51, 48, 16, 27, 19,  5,  3, 16, 32, 21,\n",
       "       22, 16, 31, 24, 50, 27, 39, 45, 21, 33, 59, 11,  9, 44, 40],\n",
       "      dtype=int64)"
      ]
     },
     "execution_count": 33,
     "metadata": {},
     "output_type": "execute_result"
    }
   ],
   "source": [
    "sample_indices = tf.squeeze(sample_indices, axis= -1).numpy()\n",
    "sample_indices"
   ]
  },
  {
   "cell_type": "code",
   "execution_count": null,
   "id": "8d148224-d52b-42c4-b7d7-c28556038f91",
   "metadata": {},
   "outputs": [],
   "source": []
  },
  {
   "cell_type": "code",
   "execution_count": 22,
   "id": "e4305f26-04a2-4fc7-8108-a5234fa5234f",
   "metadata": {},
   "outputs": [
    {
     "data": {
      "text/html": [
       "<pre style=\"white-space:pre;overflow-x:auto;line-height:normal;font-family:Menlo,'DejaVu Sans Mono',consolas,'Courier New',monospace\"><span style=\"font-weight: bold\">Model: \"sequential_1\"</span>\n",
       "</pre>\n"
      ],
      "text/plain": [
       "\u001b[1mModel: \"sequential_1\"\u001b[0m\n"
      ]
     },
     "metadata": {},
     "output_type": "display_data"
    },
    {
     "data": {
      "text/html": [
       "<pre style=\"white-space:pre;overflow-x:auto;line-height:normal;font-family:Menlo,'DejaVu Sans Mono',consolas,'Courier New',monospace\">┏━━━━━━━━━━━━━━━━━━━━━━━━━━━━━━━━━━━━━━┳━━━━━━━━━━━━━━━━━━━━━━━━━━━━━┳━━━━━━━━━━━━━━━━━┓\n",
       "┃<span style=\"font-weight: bold\"> Layer (type)                         </span>┃<span style=\"font-weight: bold\"> Output Shape                </span>┃<span style=\"font-weight: bold\">         Param # </span>┃\n",
       "┡━━━━━━━━━━━━━━━━━━━━━━━━━━━━━━━━━━━━━━╇━━━━━━━━━━━━━━━━━━━━━━━━━━━━━╇━━━━━━━━━━━━━━━━━┩\n",
       "│ simple_rnn (<span style=\"color: #0087ff; text-decoration-color: #0087ff\">SimpleRNN</span>)               │ (<span style=\"color: #00d7ff; text-decoration-color: #00d7ff\">None</span>, <span style=\"color: #00af00; text-decoration-color: #00af00\">100</span>)                 │       <span style=\"color: #00af00; text-decoration-color: #00af00\">1,010,100</span> │\n",
       "├──────────────────────────────────────┼─────────────────────────────┼─────────────────┤\n",
       "│ dense_1 (<span style=\"color: #0087ff; text-decoration-color: #0087ff\">Dense</span>)                      │ (<span style=\"color: #00d7ff; text-decoration-color: #00d7ff\">None</span>, <span style=\"color: #00af00; text-decoration-color: #00af00\">1</span>)                   │             <span style=\"color: #00af00; text-decoration-color: #00af00\">101</span> │\n",
       "└──────────────────────────────────────┴─────────────────────────────┴─────────────────┘\n",
       "</pre>\n"
      ],
      "text/plain": [
       "┏━━━━━━━━━━━━━━━━━━━━━━━━━━━━━━━━━━━━━━┳━━━━━━━━━━━━━━━━━━━━━━━━━━━━━┳━━━━━━━━━━━━━━━━━┓\n",
       "┃\u001b[1m \u001b[0m\u001b[1mLayer (type)                        \u001b[0m\u001b[1m \u001b[0m┃\u001b[1m \u001b[0m\u001b[1mOutput Shape               \u001b[0m\u001b[1m \u001b[0m┃\u001b[1m \u001b[0m\u001b[1m        Param #\u001b[0m\u001b[1m \u001b[0m┃\n",
       "┡━━━━━━━━━━━━━━━━━━━━━━━━━━━━━━━━━━━━━━╇━━━━━━━━━━━━━━━━━━━━━━━━━━━━━╇━━━━━━━━━━━━━━━━━┩\n",
       "│ simple_rnn (\u001b[38;5;33mSimpleRNN\u001b[0m)               │ (\u001b[38;5;45mNone\u001b[0m, \u001b[38;5;34m100\u001b[0m)                 │       \u001b[38;5;34m1,010,100\u001b[0m │\n",
       "├──────────────────────────────────────┼─────────────────────────────┼─────────────────┤\n",
       "│ dense_1 (\u001b[38;5;33mDense\u001b[0m)                      │ (\u001b[38;5;45mNone\u001b[0m, \u001b[38;5;34m1\u001b[0m)                   │             \u001b[38;5;34m101\u001b[0m │\n",
       "└──────────────────────────────────────┴─────────────────────────────┴─────────────────┘\n"
      ]
     },
     "metadata": {},
     "output_type": "display_data"
    },
    {
     "data": {
      "text/html": [
       "<pre style=\"white-space:pre;overflow-x:auto;line-height:normal;font-family:Menlo,'DejaVu Sans Mono',consolas,'Courier New',monospace\"><span style=\"font-weight: bold\"> Total params: </span><span style=\"color: #00af00; text-decoration-color: #00af00\">1,010,201</span> (3.85 MB)\n",
       "</pre>\n"
      ],
      "text/plain": [
       "\u001b[1m Total params: \u001b[0m\u001b[38;5;34m1,010,201\u001b[0m (3.85 MB)\n"
      ]
     },
     "metadata": {},
     "output_type": "display_data"
    },
    {
     "data": {
      "text/html": [
       "<pre style=\"white-space:pre;overflow-x:auto;line-height:normal;font-family:Menlo,'DejaVu Sans Mono',consolas,'Courier New',monospace\"><span style=\"font-weight: bold\"> Trainable params: </span><span style=\"color: #00af00; text-decoration-color: #00af00\">1,010,201</span> (3.85 MB)\n",
       "</pre>\n"
      ],
      "text/plain": [
       "\u001b[1m Trainable params: \u001b[0m\u001b[38;5;34m1,010,201\u001b[0m (3.85 MB)\n"
      ]
     },
     "metadata": {},
     "output_type": "display_data"
    },
    {
     "data": {
      "text/html": [
       "<pre style=\"white-space:pre;overflow-x:auto;line-height:normal;font-family:Menlo,'DejaVu Sans Mono',consolas,'Courier New',monospace\"><span style=\"font-weight: bold\"> Non-trainable params: </span><span style=\"color: #00af00; text-decoration-color: #00af00\">0</span> (0.00 B)\n",
       "</pre>\n"
      ],
      "text/plain": [
       "\u001b[1m Non-trainable params: \u001b[0m\u001b[38;5;34m0\u001b[0m (0.00 B)\n"
      ]
     },
     "metadata": {},
     "output_type": "display_data"
    }
   ],
   "source": [
    "h_units = 100 # hidden layers No. of neurons\n",
    "input_shape = (1,10000) # inputs \n",
    "\n",
    "model = tf.keras.Sequential()\n",
    "model.add(tf.keras.layers.Input(shape=input_shape))\n",
    "model.add(tf.keras.layers.SimpleRNN(units = h_units,\n",
    "                                   activation='tanh'\n",
    "                                   ))\n",
    "model.add(tf.keras.layers.Dense(1,\n",
    "                                   activation='linear',\n",
    "                                   \n",
    "                                   ))\n",
    "\n",
    "model.summary()"
   ]
  },
  {
   "cell_type": "code",
   "execution_count": null,
   "id": "a26f29a4-aa8c-4d0d-b49a-54870830ccf7",
   "metadata": {},
   "outputs": [],
   "source": []
  },
  {
   "cell_type": "code",
   "execution_count": null,
   "id": "91a2b51c-2373-4e9d-82d4-52f3943bfd65",
   "metadata": {},
   "outputs": [],
   "source": []
  },
  {
   "cell_type": "code",
   "execution_count": null,
   "id": "71bd6051-70d4-495c-bb66-e1b21d03832e",
   "metadata": {},
   "outputs": [],
   "source": []
  },
  {
   "cell_type": "code",
   "execution_count": null,
   "id": "efb58bfe-52d2-4179-b24c-8e98220c5f30",
   "metadata": {},
   "outputs": [],
   "source": []
  },
  {
   "cell_type": "code",
   "execution_count": 23,
   "id": "2b5d2a14-2ede-4fba-8a88-78793b3f284c",
   "metadata": {},
   "outputs": [
    {
     "name": "stdout",
     "output_type": "stream",
     "text": [
      "(10000, 100)\n",
      "(100, 100)\n",
      "(100,)\n",
      "(100, 1)\n",
      "(1,)\n",
      "\n",
      "\n",
      "Wax = (10000, 100)\n",
      "Waa = (100, 100)\n",
      "ba = (100,)\n",
      "Way = (100, 1)\n",
      "by = (1,)\n"
     ]
    }
   ],
   "source": [
    "for ax in model.get_weights():\n",
    "    print(ax.shape)\n",
    "print('\\n')\n",
    "print(f'Wax = {model.get_weights()[0].shape}')\n",
    "print(f'Waa = {model.get_weights()[1].shape}')\n",
    "print(f'ba = {model.get_weights()[2].shape}')\n",
    "print(f'Way = {model.get_weights()[3].shape}')\n",
    "print(f'by = {model.get_weights()[4].shape}')"
   ]
  },
  {
   "cell_type": "code",
   "execution_count": 24,
   "id": "2a0f5506-b8e5-44b6-bb11-bb62d58cb5c2",
   "metadata": {},
   "outputs": [
    {
     "ename": "NameError",
     "evalue": "name 'temp_df' is not defined",
     "output_type": "error",
     "traceback": [
      "\u001b[1;31m---------------------------------------------------------------------------\u001b[0m",
      "\u001b[1;31mNameError\u001b[0m                                 Traceback (most recent call last)",
      "Cell \u001b[1;32mIn[24], line 1\u001b[0m\n\u001b[1;32m----> 1\u001b[0m temp_df\n",
      "\u001b[1;31mNameError\u001b[0m: name 'temp_df' is not defined"
     ]
    }
   ],
   "source": [
    "temp_df"
   ]
  },
  {
   "cell_type": "code",
   "execution_count": null,
   "id": "feaf6ad0-0a39-4c69-8183-51538c084774",
   "metadata": {},
   "outputs": [],
   "source": [
    "time_step = 24\n",
    "temp_df.shape[0]/time_step\n",
    "\n",
    "\n",
    "y_idx = np.arange(time_step, temp_df.shape[0], time_step)\n",
    "y_idx"
   ]
  },
  {
   "cell_type": "code",
   "execution_count": null,
   "id": "d20892d3-e13d-439a-8837-b31f3d43ed04",
   "metadata": {},
   "outputs": [],
   "source": [
    "y_df = temp_df.iloc[y_idx]\n",
    "y_df.head()"
   ]
  },
  {
   "cell_type": "code",
   "execution_count": null,
   "id": "3e72f2b8-aec0-4d97-8ffb-2624d6eeefc3",
   "metadata": {},
   "outputs": [],
   "source": [
    "y_df.shape"
   ]
  },
  {
   "cell_type": "code",
   "execution_count": null,
   "id": "861a1fba-665e-4ab6-8911-ce7a36b97eb2",
   "metadata": {},
   "outputs": [],
   "source": [
    "temp_df = temp_df.iloc[range(len(y_df) * time_step)]\n",
    "temp_df.shape"
   ]
  },
  {
   "cell_type": "code",
   "execution_count": null,
   "id": "236a7b6f-814d-4ac9-8ed8-d0fd87890411",
   "metadata": {},
   "outputs": [],
   "source": []
  },
  {
   "cell_type": "code",
   "execution_count": null,
   "id": "c88a528c-6d06-4432-b59d-229a3f9390f8",
   "metadata": {},
   "outputs": [],
   "source": [
    "# Reshape to match number of e=rows in y_df\n",
    "\n",
    "X_temp = np.reshape(temp_df['temp'].values, (y_df.shape[0], time_step))\n",
    "X_hum = np.reshape(temp_df['hum'].values, (y_df.shape[0], time_step))\n",
    "X_wind = np.reshape(temp_df['wind'].values, (y_df.shape[0], time_step))\n",
    "X_vis = np.reshape(temp_df['vis'].values, (y_df.shape[0], time_step))\n",
    "\n",
    "X_temp.shape, X_hum.shape, X_wind.shape, X_vis.shape"
   ]
  },
  {
   "cell_type": "code",
   "execution_count": null,
   "id": "c22e73ca-0960-4313-83e6-9f556124aad3",
   "metadata": {},
   "outputs": [],
   "source": [
    "# remove last column\n",
    "X_temp  = X_temp[:, :23]\n",
    "X_hum = X_hum[:,:23]\n",
    "X_wind = X_wind[:,:23]\n",
    "X_vis = X_vis[:,:23]"
   ]
  },
  {
   "cell_type": "code",
   "execution_count": null,
   "id": "069500d6-370b-42e5-9fa8-94814bd1d12e",
   "metadata": {},
   "outputs": [],
   "source": [
    "#X[0], y_df.head(1)"
   ]
  },
  {
   "cell_type": "markdown",
   "id": "326dbd03-e8ed-4bb9-9503-97df1fc0863c",
   "metadata": {},
   "source": [
    "[samples, timesteps, features]"
   ]
  },
  {
   "cell_type": "code",
   "execution_count": null,
   "id": "d785218d-54a7-46e8-83de-49a52bc28510",
   "metadata": {},
   "outputs": [],
   "source": []
  },
  {
   "cell_type": "code",
   "execution_count": null,
   "id": "3a3de01f-79d7-4b0d-9b73-3a61dd3af78d",
   "metadata": {},
   "outputs": [],
   "source": [
    "X_data = np.stack((\n",
    "    X_temp,\n",
    "    X_hum,X_vis,\n",
    "    X_wind))\n",
    "X_data = np.reshape(X_data, (X_temp.shape[0], X_temp.shape[1], 4))\n",
    "X_data.shape"
   ]
  },
  {
   "cell_type": "code",
   "execution_count": null,
   "id": "6efe129a-5f44-4a74-bc56-33d8805aa4a4",
   "metadata": {},
   "outputs": [],
   "source": [
    "split = int(y_df.shape[0] * (1 - TEST_SIZE))\n",
    "split"
   ]
  },
  {
   "cell_type": "code",
   "execution_count": null,
   "id": "24a4858a-eb1f-414b-ba1d-c28e53cc6d0a",
   "metadata": {},
   "outputs": [],
   "source": [
    "X_train = X_data[:split]\n",
    "X_test = X_data[split:]\n",
    "y_train = y_df['temp'].values[:split]\n",
    "y_test = y_df['temp'].values[split:]"
   ]
  },
  {
   "cell_type": "code",
   "execution_count": null,
   "id": "b9f9b413-b771-454c-a7b4-b92ce4047b45",
   "metadata": {},
   "outputs": [],
   "source": [
    "X_train.shape, X_test.shape, y_train.shape, y_test.shape"
   ]
  },
  {
   "cell_type": "code",
   "execution_count": null,
   "id": "eac4311d-79d6-449b-9de6-768c5dd930bc",
   "metadata": {},
   "outputs": [],
   "source": [
    "h_units = 256 # hidden layers No. of neurons\n",
    "input_shape = (time_step - 1,X_train.shape[2]) # inputs  (time_Step, feature )\n",
    "initializer = tf.keras.initializers.GlorotUniform(seed = RANDOM_STATE)\n",
    "\n",
    "model = tf.keras.Sequential()\n",
    "model.add(tf.keras.layers.Input(shape=input_shape))\n",
    "model.add(tf.keras.layers.SimpleRNN(units = h_units,\n",
    "                                    kernel_initializer= initializer,\n",
    "                                       activation='tanh'\n",
    "                                   ))\n",
    "model.add(tf.keras.layers.Dense(1,\n",
    "                                   activation='linear',\n",
    "                                   \n",
    "                                   ))\n",
    "\n",
    "model.summary()"
   ]
  },
  {
   "cell_type": "code",
   "execution_count": null,
   "id": "e9e14e50-e8f6-4930-983b-65f516c763a3",
   "metadata": {},
   "outputs": [],
   "source": [
    "model.compile(optimizer = 'adam', # optimisation, loss calculation \n",
    "             loss = 'mean_squared_error',\n",
    "              metrics = [tf.keras.metrics.RootMeanSquaredError(name='RMSE', dtype=None)]\n",
    "             )\n",
    "history = model.fit(x = X_train, y = y_train, \n",
    "                    validation_data = [X_test, y_test],\n",
    "                    batch_size = BATCH_SIZE,\n",
    "                    verbose = 1,\n",
    "                    epochs =EPOCHS\n",
    "                   )"
   ]
  },
  {
   "cell_type": "code",
   "execution_count": null,
   "id": "22e7274f-32f4-4f24-a6b9-0342771c7810",
   "metadata": {},
   "outputs": [],
   "source": [
    "loss_df = pd.DataFrame(history.history)"
   ]
  },
  {
   "cell_type": "code",
   "execution_count": null,
   "id": "69e0966a-90e8-4468-aaca-0c6b16224f8a",
   "metadata": {},
   "outputs": [],
   "source": [
    "loss_df"
   ]
  },
  {
   "cell_type": "code",
   "execution_count": null,
   "id": "2e2871d4-bfaf-4d65-a69f-2cf103961467",
   "metadata": {},
   "outputs": [],
   "source": [
    "fn_plot_tf_hist(loss_df)"
   ]
  },
  {
   "cell_type": "code",
   "execution_count": null,
   "id": "4c58bd3a-e128-4726-9d5b-4ff3b9d92fba",
   "metadata": {},
   "outputs": [],
   "source": [
    "y_tr_pred = model.predict(X_train)\n",
    "y_ts_pred = model.predict(X_test)\n",
    "\n",
    "y_pred = np.append(y_tr_pred, y_ts_pred)\n",
    "res_df = y_df.copy()\n",
    "res_df['pred'] = y_pred\n",
    "res_df.head()"
   ]
  },
  {
   "cell_type": "code",
   "execution_count": null,
   "id": "dda4526b-f6b5-4c9f-b66c-3e2b5c7d4741",
   "metadata": {},
   "outputs": [],
   "source": [
    "res_df.plot(x = 'datetime', y=['temp', 'pred'])"
   ]
  },
  {
   "cell_type": "code",
   "execution_count": null,
   "id": "cdb069eb-872e-41ce-987b-aa92d2dd66e8",
   "metadata": {},
   "outputs": [],
   "source": []
  },
  {
   "cell_type": "code",
   "execution_count": null,
   "id": "a9e72802-768a-4bf6-ae6a-99ceed0a4ce3",
   "metadata": {},
   "outputs": [],
   "source": []
  },
  {
   "cell_type": "code",
   "execution_count": null,
   "id": "f41cf60e-3f25-4964-90a2-8b1b14be980d",
   "metadata": {},
   "outputs": [],
   "source": []
  },
  {
   "cell_type": "code",
   "execution_count": null,
   "id": "734e474b-800c-4a17-827d-c995906a1c35",
   "metadata": {},
   "outputs": [],
   "source": []
  },
  {
   "cell_type": "code",
   "execution_count": null,
   "id": "f96586e3-d93e-4c1f-a98a-3d238dd6e6b4",
   "metadata": {},
   "outputs": [],
   "source": []
  },
  {
   "cell_type": "code",
   "execution_count": null,
   "id": "d5228907-a31c-4213-b2eb-6cf5f0e21f74",
   "metadata": {},
   "outputs": [],
   "source": []
  },
  {
   "cell_type": "code",
   "execution_count": null,
   "id": "60dfa617-4586-4395-9707-4ea812a9f33f",
   "metadata": {},
   "outputs": [],
   "source": []
  },
  {
   "cell_type": "code",
   "execution_count": null,
   "id": "f9582b1f-d3d3-45a3-bedc-19aff30479cd",
   "metadata": {},
   "outputs": [],
   "source": []
  },
  {
   "cell_type": "code",
   "execution_count": null,
   "id": "cb21b1ee-2643-4e3b-ab1d-f60bdbf6db02",
   "metadata": {},
   "outputs": [],
   "source": []
  },
  {
   "cell_type": "code",
   "execution_count": null,
   "id": "1eb601ba-c0a8-450d-912c-088d6e247aa2",
   "metadata": {},
   "outputs": [],
   "source": []
  },
  {
   "cell_type": "code",
   "execution_count": null,
   "id": "6df8f170-d943-40df-bc07-b6031abbd1d6",
   "metadata": {},
   "outputs": [],
   "source": []
  },
  {
   "cell_type": "code",
   "execution_count": null,
   "id": "0ef9923e-5588-44a3-aad7-ae967059c260",
   "metadata": {},
   "outputs": [],
   "source": []
  },
  {
   "cell_type": "code",
   "execution_count": null,
   "id": "7a781ee9-d1de-4699-8054-019c2793812f",
   "metadata": {},
   "outputs": [],
   "source": [
    "chkptPATH = os.path.join(modelDir, subDir, 'all_in_11.keras')\n",
    "chkpt_cb = tf.keras.callbacks.ModelCheckpoint(chkptPATH,\n",
    "                                             monitor = 'val_loss',\n",
    "                                             verbose =2,\n",
    "                                             save_best_only=True\n",
    "                                        )\n",
    "\n",
    "es_cb = tf.keras.callbacks.EarlyStopping(monitor = 'val_loss',\n",
    "                                        verbose =2,\n",
    "                                        patience= PATIENCE,\n",
    "                                         restore_best_weights= True\n",
    "                                        )\n",
    "\n",
    "lr_cb = tf.keras.callbacks.ReduceLROnPlateau(\n",
    "                                        monitor = 'val_loss',\n",
    "                                        factor= LR_FACTOR,\n",
    "                                        verbose =2,\n",
    "                                        patience= LR_PATIENCE\n",
    "                                         )"
   ]
  },
  {
   "cell_type": "code",
   "execution_count": null,
   "id": "14f1ded1-dbe6-4d79-b8c3-891c877493da",
   "metadata": {},
   "outputs": [],
   "source": [
    "history = model.fit(test_ds,#x = X_train, y = y_train, \n",
    "                    validation_data = valid_ds,#[X_test, y_test],\n",
    "                    #batch_size = BATCH_SIZE,\n",
    "                    verbose = 2,\n",
    "                    epochs =EPOCHS,\n",
    "                     callbacks = [chkpt_cb,es_cb,lr_cb]\n",
    "                   )"
   ]
  },
  {
   "cell_type": "code",
   "execution_count": null,
   "id": "9b7e8666-b290-403a-9e6f-4e9323c35b13",
   "metadata": {},
   "outputs": [],
   "source": [
    "fn_plot_tf_hist(pd.DataFrame(history.history))"
   ]
  },
  {
   "cell_type": "code",
   "execution_count": null,
   "id": "1c84dbde-d62c-4237-a370-c00215c613b3",
   "metadata": {},
   "outputs": [],
   "source": []
  }
 ],
 "metadata": {
  "kernelspec": {
   "display_name": "Python 3 (ipykernel)",
   "language": "python",
   "name": "python3"
  },
  "language_info": {
   "codemirror_mode": {
    "name": "ipython",
    "version": 3
   },
   "file_extension": ".py",
   "mimetype": "text/x-python",
   "name": "python",
   "nbconvert_exporter": "python",
   "pygments_lexer": "ipython3",
   "version": "3.12.4"
  }
 },
 "nbformat": 4,
 "nbformat_minor": 5
}
